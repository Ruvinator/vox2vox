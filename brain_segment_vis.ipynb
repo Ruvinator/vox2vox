{
 "cells": [
  {
   "cell_type": "code",
   "execution_count": 17,
   "metadata": {},
   "outputs": [
    {
     "name": "stdout",
     "output_type": "stream",
     "text": [
      "4\n",
      "(240, 240, 155, 4)\n"
     ]
    },
    {
     "data": {
      "text/plain": [
       "<matplotlib.image.AxesImage at 0x7fc128c9da58>"
      ]
     },
     "execution_count": 17,
     "metadata": {},
     "output_type": "execute_result"
    },
    {
     "data": {
      "image/png": "[encoded data removed]",
      "text/plain": [
       "<Figure size 432x288 with 3 Axes>"
      ]
     },
     "metadata": {
      "needs_background": "light"
     },
     "output_type": "display_data"
    }
   ],
   "source": [
    "# From 2D slice visualization notebook: loading NII files and 2D vis\n",
    "import numpy as np\n",
    "import pandas as pd\n",
    "import nibabel as nb\n",
    "from matplotlib import pyplot as plt\n",
    "from pathlib import Path\n",
    "\n",
    "data_dir = Path('./BrainTumour/train')\n",
    "segment_dir = Path('./BrainTumour/train_labels')\n",
    "\n",
    "# =========\n",
    "#   Brain\n",
    "# =========\n",
    "#\n",
    "# Brain MRI indices:\n",
    "#     0: FLAIR: \"Fluid Attenuated Inversion Recovery\" (FLAIR)\n",
    "#     1: T1w: \"T1-weighted\"\n",
    "#     2: t1gd: \"T1-weighted with gadolinium contrast enhancement\" (T1-Gd)\n",
    "#     3: T2w: \"T2-weighted\"\n",
    "\n",
    "\n",
    "brain = nb.load(data_dir / 'BRATS_001.nii')\n",
    "data = brain.get_fdata()[:,:,:,0]\n",
    "\n",
    "print(brain.ndim)\n",
    "print(brain.shape)\n",
    "\n",
    "# Plotting the brain cross-sections\n",
    "i, j, k = np.array(data.shape) // 2\n",
    "fig, axes_g = plt.subplots(1, 3)\n",
    "\n",
    "axes_g[0].imshow(data[i, :, :].T, origin='lower')\n",
    "axes_g[1].imshow(data[:, j, :].T, origin='lower')\n",
    "axes_g[2].imshow(data[:, :, k].T, origin='lower')"
   ]
  },
  {
   "cell_type": "code",
   "execution_count": 23,
   "metadata": {},
   "outputs": [
    {
     "name": "stdout",
     "output_type": "stream",
     "text": [
      "3\n",
      "(240, 240, 155)\n"
     ]
    },
    {
     "data": {
      "text/plain": [
       "<matplotlib.image.AxesImage at 0x7fc128a6fe80>"
      ]
     },
     "execution_count": 23,
     "metadata": {},
     "output_type": "execute_result"
    },
    {
     "data": {
      "image/png": "[encoded data removed]",
      "text/plain": [
       "<Figure size 432x288 with 3 Axes>"
      ]
     },
     "metadata": {
      "needs_background": "light"
     },
     "output_type": "display_data"
    }
   ],
   "source": [
    "# ===========\n",
    "#   Segment\n",
    "# ===========\n",
    "#\n",
    "# Segments are 240x240x155 with voxel values representing:\n",
    "#     0: background\n",
    "#     1: edema\n",
    "#     2: non-enhancing tumor\n",
    "#     3: enhancing tumor\n",
    "\n",
    "brain_seg = nb.load(segment_dir / 'BRATS_001.nii')\n",
    "brain_seg_data = brain_seg.get_fdata()\n",
    "\n",
    "print(brain_seg.ndim)\n",
    "print(brain_seg.shape)\n",
    "\n",
    "# Plotting the brain's segment cross-sections\n",
    "i, j, k = np.array(data.shape) // 2\n",
    "fig, axes_g = plt.subplots(1, 3)\n",
    "\n",
    "axes_g[0].imshow(tumor_e[i, :, :].T, origin='lower')\n",
    "axes_g[1].imshow(tumor_e[:, j, :].T, origin='lower')\n",
    "axes_g[2].imshow(tumor_e[:, :, k].T, origin='lower')"
   ]
  },
  {
   "cell_type": "code",
   "execution_count": 25,
   "metadata": {},
   "outputs": [
    {
     "name": "stdout",
     "output_type": "stream",
     "text": [
      "[[[0. 0. 0. ... 0. 0. 0.]\n",
      "  [0. 0. 0. ... 0. 0. 0.]\n",
      "  [0. 0. 0. ... 0. 0. 0.]\n",
      "  ...\n",
      "  [0. 0. 0. ... 0. 0. 0.]\n",
      "  [0. 0. 0. ... 0. 0. 0.]\n",
      "  [0. 0. 0. ... 0. 0. 0.]]\n",
      "\n",
      " [[0. 0. 0. ... 0. 0. 0.]\n",
      "  [0. 0. 0. ... 0. 0. 0.]\n",
      "  [0. 0. 0. ... 0. 0. 0.]\n",
      "  ...\n",
      "  [0. 0. 0. ... 0. 0. 0.]\n",
      "  [0. 0. 0. ... 0. 0. 0.]\n",
      "  [0. 0. 0. ... 0. 0. 0.]]\n",
      "\n",
      " [[0. 0. 0. ... 0. 0. 0.]\n",
      "  [0. 0. 0. ... 0. 0. 0.]\n",
      "  [0. 0. 0. ... 0. 0. 0.]\n",
      "  ...\n",
      "  [0. 0. 0. ... 0. 0. 0.]\n",
      "  [0. 0. 0. ... 0. 0. 0.]\n",
      "  [0. 0. 0. ... 0. 0. 0.]]\n",
      "\n",
      " ...\n",
      "\n",
      " [[0. 0. 0. ... 0. 0. 0.]\n",
      "  [0. 0. 0. ... 0. 0. 0.]\n",
      "  [0. 0. 0. ... 0. 0. 0.]\n",
      "  ...\n",
      "  [0. 0. 0. ... 0. 0. 0.]\n",
      "  [0. 0. 0. ... 0. 0. 0.]\n",
      "  [0. 0. 0. ... 0. 0. 0.]]\n",
      "\n",
      " [[0. 0. 0. ... 0. 0. 0.]\n",
      "  [0. 0. 0. ... 0. 0. 0.]\n",
      "  [0. 0. 0. ... 0. 0. 0.]\n",
      "  ...\n",
      "  [0. 0. 0. ... 0. 0. 0.]\n",
      "  [0. 0. 0. ... 0. 0. 0.]\n",
      "  [0. 0. 0. ... 0. 0. 0.]]\n",
      "\n",
      " [[0. 0. 0. ... 0. 0. 0.]\n",
      "  [0. 0. 0. ... 0. 0. 0.]\n",
      "  [0. 0. 0. ... 0. 0. 0.]\n",
      "  ...\n",
      "  [0. 0. 0. ... 0. 0. 0.]\n",
      "  [0. 0. 0. ... 0. 0. 0.]\n",
      "  [0. 0. 0. ... 0. 0. 0.]]]\n"
     ]
    }
   ],
   "source": [
    "# Looking at format of loaded dataset\n",
    "# print(brain_seg_data)\n",
    "\n",
    "print(nb.load(segment_dir / 'BRATS_001.nii').get_fdata())"
   ]
  },
  {
   "cell_type": "code",
   "execution_count": null,
   "metadata": {},
   "outputs": [],
   "source": []
  }
 ],
 "metadata": {
  "kernelspec": {
   "display_name": "Python 3",
   "language": "python",
   "name": "python3"
  },
  "language_info": {
   "codemirror_mode": {
    "name": "ipython",
    "version": 3
   },
   "file_extension": ".py",
   "mimetype": "text/x-python",
   "name": "python",
   "nbconvert_exporter": "python",
   "pygments_lexer": "ipython3",
   "version": "3.6.9"
  }
 },
 "nbformat": 4,
 "nbformat_minor": 2
}
